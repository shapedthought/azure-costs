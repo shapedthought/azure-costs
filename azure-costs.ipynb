{
 "cells": [
  {
   "cell_type": "code",
   "execution_count": 1,
   "metadata": {},
   "outputs": [],
   "source": [
    "class VmWorkload:\n",
    "    def __init__(self, category: str, count: int, size: float) -> None:\n",
    "        self.category = (category,)\n",
    "        self.count = (count,)\n",
    "        self.size = (size,)\n",
    "        self.total_size = count * size"
   ]
  },
  {
   "cell_type": "code",
   "execution_count": 2,
   "metadata": {},
   "outputs": [],
   "source": [
    "workload = VmWorkload('test', 1, 1.0)\n",
    "workload2 = VmWorkload('test2', 2, 2.0)\n",
    "workload3 = VmWorkload('test3', 3, 3.0)"
   ]
  },
  {
   "cell_type": "code",
   "execution_count": 4,
   "metadata": {},
   "outputs": [],
   "source": [
    "import functools\n",
    "\n",
    "def calculate_vm_totals(vm_workloads: list[VmWorkload]) -> dict[str, float]:\n",
    "    total_vms = functools.reduce(lambda x, y: x + y.count[0], vm_workloads, 0)\n",
    "    total_size = functools.reduce(lambda x, y: x + y.total_size, vm_workloads, 0.0)\n",
    "    return {\"total_vms\": total_vms, \"total_size\": total_size}"
   ]
  },
  {
   "cell_type": "code",
   "execution_count": 5,
   "metadata": {},
   "outputs": [
    {
     "data": {
      "text/plain": [
       "{'total_vms': 6, 'total_size': 14.0}"
      ]
     },
     "execution_count": 5,
     "metadata": {},
     "output_type": "execute_result"
    }
   ],
   "source": [
    "workloads = [workload, workload2, workload3]\n",
    "calculate_vm_totals(workloads)"
   ]
  },
  {
   "cell_type": "code",
   "execution_count": 6,
   "metadata": {},
   "outputs": [],
   "source": [
    "import json\n",
    "with open(\"settings.json\", \"r\") as jd:\n",
    "    settings = json.load(jd)"
   ]
  },
  {
   "cell_type": "code",
   "execution_count": 12,
   "metadata": {},
   "outputs": [
    {
     "data": {
      "text/plain": [
       "{'vm_size': 'Standard_F2s_v2, 2 CPU, 4 GB RAM (payg)',\n",
       " 'per_month': 82.08,\n",
       " 'worker': True,\n",
       " 'throughput': 90}"
      ]
     },
     "execution_count": 12,
     "metadata": {},
     "output_type": "execute_result"
    }
   ],
   "source": [
    "list(filter(lambda x: x['vm_size'] == 'Standard_F2s_v2, 2 CPU, 4 GB RAM (payg)', settings['azure_compute']))[0]"
   ]
  },
  {
   "cell_type": "code",
   "execution_count": 21,
   "metadata": {},
   "outputs": [],
   "source": [
    "import settings"
   ]
  },
  {
   "cell_type": "code",
   "execution_count": null,
   "metadata": {},
   "outputs": [],
   "source": [
    "with open(\"settings.json\", \"r\") as jd:\n",
    "    settings = json.load(jd)\n",
    "    "
   ]
  },
  {
   "cell_type": "markdown",
   "metadata": {},
   "source": [
    "This is a calculation"
   ]
  },
  {
   "cell_type": "code",
   "execution_count": 18,
   "metadata": {},
   "outputs": [
    {
     "name": "stdout",
     "output_type": "stream",
     "text": [
      "Total cap: 20.00 PB\n"
     ]
    }
   ],
   "source": [
    "compression = 1\n",
    "change_rate = 0.005\n",
    "cap = 2 * 1024 * compression\n",
    "incremental = cap * change_rate\n",
    "months = 5 * 12\n",
    "all_inc = incremental * (30 * months)\n",
    "total_cap  = cap + all_inc\n",
    "print(f\"Total cap: {total_cap / 1024:.2f} PB\")"
   ]
  },
  {
   "cell_type": "code",
   "execution_count": 20,
   "metadata": {},
   "outputs": [
    {
     "name": "stdout",
     "output_type": "stream",
     "text": [
      "File size: 40.72 KB\n"
     ]
    }
   ],
   "source": [
    "total_cap = 800 + 1000\n",
    "cap_cap_kb = 1024 * 1024**3\n",
    "files = 27000000000\n",
    "file_size = cap_cap_kb / files\n",
    "print(f\"File size: {file_size:.2f} KB\")"
   ]
  },
  {
   "cell_type": "code",
   "execution_count": null,
   "metadata": {},
   "outputs": [],
   "source": []
  }
 ],
 "metadata": {
  "kernelspec": {
   "display_name": "Python 3",
   "language": "python",
   "name": "python3"
  },
  "language_info": {
   "codemirror_mode": {
    "name": "ipython",
    "version": 3
   },
   "file_extension": ".py",
   "mimetype": "text/x-python",
   "name": "python",
   "nbconvert_exporter": "python",
   "pygments_lexer": "ipython3",
   "version": "3.12.0"
  }
 },
 "nbformat": 4,
 "nbformat_minor": 2
}
